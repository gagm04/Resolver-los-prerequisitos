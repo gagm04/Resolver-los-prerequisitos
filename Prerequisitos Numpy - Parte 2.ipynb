{
 "cells": [
  {
   "cell_type": "markdown",
   "metadata": {},
   "source": [
    "### Realizar el siguiente proyecto\n",
    "\n",
    "Cuando empecemos a ver machine learning requerimos normalizar la data, normalizar significa truncar valores entre cero y uno, a groso modo y sin mucho detalle.\n",
    "\n",
    "En este laboratorio hará normalización de la media.  Esta escala la información pero en vez de tomar valores entre 0 y 1 los distribuira equitativamente en intervalos cerca de cero, por ejemplo, si tenemos un dataset de 1M de datos estos serán normalizados para un rango cercano a 0, por ejemplo -4 a 4.\n",
    "\n",
    "Esto tambien garantiza que la media de los elementos sea cero.\n",
    "\n",
    "Su objetivo será:\n",
    "- crear elementos de rango 2 de elementos aleatorios entre 0 y 10k (inclusivo) com 500 filas y 300 columnas."
   ]
  },
  {
   "cell_type": "code",
   "execution_count": null,
   "metadata": {},
   "outputs": [],
   "source": [
    "# importar numpy como np\n",
    "\n",
    "np.random.seed(42) # estabilidad en la generacione de numeros aleatorios\n",
    "\n",
    "# crear el arreglo x de 500x300 con enteros entre (0,10000]\n",
    "x = "
   ]
  },
  {
   "cell_type": "code",
   "execution_count": null,
   "metadata": {},
   "outputs": [],
   "source": [
    "print(f'shape:{x.shape}')\n",
    "print(f'size:{x.size}')\n",
    "print(f'max:{x.max()}')\n",
    "print(f'min:{x.min()}')"
   ]
  },
  {
   "cell_type": "markdown",
   "metadata": {},
   "source": [
    "Respuesta esperada:\n",
    "```\n",
    "shape:(500, 300)\n",
    "size:150000\n",
    "max:10000\n",
    "min:0\n",
    "```"
   ]
  },
  {
   "cell_type": "markdown",
   "metadata": {},
   "source": [
    "Ahora que creo el arreglo lo normalizaremos.  La normalización tiene que ver con esta función matemática:\n",
    "$$\n",
    "i=\\frac{i - \\mu_i}{\\sigma_i}\n",
    "$$\n",
    "\n",
    "- $i$ es la $i_n$ columna de $X$\n",
    "- $\\mu_i$ es el promedio de los valores de la columna $i_ma$ de $X$\n",
    "- $\\sigma_i$ es la desviacion estandar de los valores de la $i_ma$ columna de $X$\n",
    "\n",
    "En otras palabras la normalizacion media es realizada sustrayendo de cada columna de $X$ el promedio de sus valores, y entonces dividirlo por la desviación estandar de sus valores, en el espacio inferior realizaremos unos calculos intermedios"
   ]
  },
  {
   "cell_type": "code",
   "execution_count": 16,
   "metadata": {},
   "outputs": [
    {
     "ename": "NameError",
     "evalue": "name 'np' is not defined",
     "output_type": "error",
     "traceback": [
      "\u001b[1;31m---------------------------------------------------------------------------\u001b[0m",
      "\u001b[1;31mNameError\u001b[0m                                 Traceback (most recent call last)",
      "\u001b[1;32m<ipython-input-16-0cc3470590e0>\u001b[0m in \u001b[0;36m<module>\u001b[1;34m\u001b[0m\n\u001b[0;32m      1\u001b[0m \u001b[1;31m# promedio de los valores de cada columna de x\u001b[0m\u001b[1;33m\u001b[0m\u001b[1;33m\u001b[0m\u001b[1;33m\u001b[0m\u001b[0m\n\u001b[1;32m----> 2\u001b[1;33m \u001b[0mcols_prom\u001b[0m \u001b[1;33m=\u001b[0m \u001b[0mnp\u001b[0m\u001b[1;33m.\u001b[0m\u001b[0mmean\u001b[0m\u001b[1;33m(\u001b[0m\u001b[0mx\u001b[0m\u001b[1;33m,\u001b[0m \u001b[0maxis\u001b[0m\u001b[1;33m=\u001b[0m\u001b[1;36m0\u001b[0m\u001b[1;33m)\u001b[0m\u001b[1;33m\u001b[0m\u001b[1;33m\u001b[0m\u001b[0m\n\u001b[0m\u001b[0;32m      3\u001b[0m \u001b[1;33m\u001b[0m\u001b[0m\n\u001b[0;32m      4\u001b[0m \u001b[1;31m# desviacion estandar de los valores en cada columna de x\u001b[0m\u001b[1;33m\u001b[0m\u001b[1;33m\u001b[0m\u001b[1;33m\u001b[0m\u001b[0m\n\u001b[0;32m      5\u001b[0m \u001b[0mcols_std\u001b[0m \u001b[1;33m=\u001b[0m \u001b[0mnp\u001b[0m\u001b[1;33m.\u001b[0m\u001b[0mstd\u001b[0m\u001b[1;33m(\u001b[0m\u001b[0mx\u001b[0m\u001b[1;33m,\u001b[0m \u001b[0maxis\u001b[0m\u001b[1;33m=\u001b[0m\u001b[1;36m0\u001b[0m\u001b[1;33m)\u001b[0m\u001b[1;33m\u001b[0m\u001b[1;33m\u001b[0m\u001b[0m\n",
      "\u001b[1;31mNameError\u001b[0m: name 'np' is not defined"
     ]
    }
   ],
   "source": [
    "# promedio de los valores de cada columna de x\n",
    "cols_prom = np.mean(x, axis=0)\n",
    "\n",
    "# desviacion estandar de los valores en cada columna de x\n",
    "cols_std = np.std(x, axis=0)"
   ]
  },
  {
   "cell_type": "code",
   "execution_count": 10,
   "metadata": {},
   "outputs": [
    {
     "ename": "NameError",
     "evalue": "name 'cols_prom' is not defined",
     "output_type": "error",
     "traceback": [
      "\u001b[1;31m---------------------------------------------------------------------------\u001b[0m",
      "\u001b[1;31mNameError\u001b[0m                                 Traceback (most recent call last)",
      "\u001b[1;32m<ipython-input-10-15c72c0d8966>\u001b[0m in \u001b[0;36m<module>\u001b[1;34m\u001b[0m\n\u001b[1;32m----> 1\u001b[1;33m \u001b[0mcols_prom\u001b[0m\u001b[1;33m.\u001b[0m\u001b[0mshape\u001b[0m\u001b[1;33m,\u001b[0m \u001b[0mcols_std\u001b[0m\u001b[1;33m.\u001b[0m\u001b[0mshape\u001b[0m\u001b[1;33m\u001b[0m\u001b[1;33m\u001b[0m\u001b[0m\n\u001b[0m",
      "\u001b[1;31mNameError\u001b[0m: name 'cols_prom' is not defined"
     ]
    }
   ],
   "source": [
    "cols_prom.shape, cols_std.shape"
   ]
  },
  {
   "cell_type": "markdown",
   "metadata": {},
   "source": [
    "Respuesta esperada:\n",
    "```\n",
    "((300,), (300,))\n",
    "```\n",
    "\n",
    "Si ud calculo bien el paso anterior debe tener un arreglo de 300 debido a que es la cantidad de columnas necesarias"
   ]
  },
  {
   "cell_type": "markdown",
   "metadata": {},
   "source": [
    "Ahora podemos utilizar correctamente broadcasting utilizando la normalizacion por medio de la ecuación que se presentó anteriormente\n",
    "\n",
    "$$\n",
    "i=\\frac{i - \\mu_i}{\\sigma_i}\n",
    "$$"
   ]
  },
  {
   "cell_type": "code",
   "execution_count": 11,
   "metadata": {},
   "outputs": [
    {
     "ename": "NameError",
     "evalue": "name 'x' is not defined",
     "output_type": "error",
     "traceback": [
      "\u001b[1;31m---------------------------------------------------------------------------\u001b[0m",
      "\u001b[1;31mNameError\u001b[0m                                 Traceback (most recent call last)",
      "\u001b[1;32m<ipython-input-11-0ac34dbc923c>\u001b[0m in \u001b[0;36m<module>\u001b[1;34m\u001b[0m\n\u001b[1;32m----> 1\u001b[1;33m \u001b[0mnorm\u001b[0m \u001b[1;33m=\u001b[0m \u001b[1;33m(\u001b[0m\u001b[1;33m(\u001b[0m\u001b[0mx\u001b[0m\u001b[1;33m-\u001b[0m\u001b[0mcols_prom\u001b[0m\u001b[1;33m)\u001b[0m\u001b[1;33m/\u001b[0m\u001b[0mcols_std\u001b[0m\u001b[1;33m)\u001b[0m\u001b[1;33m\u001b[0m\u001b[1;33m\u001b[0m\u001b[0m\n\u001b[0m",
      "\u001b[1;31mNameError\u001b[0m: name 'x' is not defined"
     ]
    }
   ],
   "source": [
    "norm = ((x-cols_prom)/cols_std)"
   ]
  },
  {
   "cell_type": "code",
   "execution_count": 12,
   "metadata": {},
   "outputs": [
    {
     "ename": "NameError",
     "evalue": "name 'norm' is not defined",
     "output_type": "error",
     "traceback": [
      "\u001b[1;31m---------------------------------------------------------------------------\u001b[0m",
      "\u001b[1;31mNameError\u001b[0m                                 Traceback (most recent call last)",
      "\u001b[1;32m<ipython-input-12-b896f8e7ba40>\u001b[0m in \u001b[0;36m<module>\u001b[1;34m\u001b[0m\n\u001b[1;32m----> 1\u001b[1;33m \u001b[0mprint\u001b[0m\u001b[1;33m(\u001b[0m\u001b[1;34m'Media:'\u001b[0m\u001b[1;33m,\u001b[0m\u001b[0mnorm\u001b[0m\u001b[1;33m.\u001b[0m\u001b[0mmean\u001b[0m\u001b[1;33m(\u001b[0m\u001b[1;33m)\u001b[0m\u001b[1;33m)\u001b[0m\u001b[1;33m\u001b[0m\u001b[1;33m\u001b[0m\u001b[0m\n\u001b[0m\u001b[0;32m      2\u001b[0m \u001b[0mprint\u001b[0m\u001b[1;33m(\u001b[0m\u001b[1;34m'Máximo:'\u001b[0m\u001b[1;33m,\u001b[0m\u001b[0mnorm\u001b[0m\u001b[1;33m.\u001b[0m\u001b[0mmax\u001b[0m\u001b[1;33m(\u001b[0m\u001b[1;33m)\u001b[0m\u001b[1;33m)\u001b[0m\u001b[1;33m\u001b[0m\u001b[1;33m\u001b[0m\u001b[0m\n\u001b[0;32m      3\u001b[0m \u001b[0mprint\u001b[0m\u001b[1;33m(\u001b[0m\u001b[1;34m'Minimo:'\u001b[0m\u001b[1;33m,\u001b[0m\u001b[0mnorm\u001b[0m\u001b[1;33m.\u001b[0m\u001b[0mmin\u001b[0m\u001b[1;33m(\u001b[0m\u001b[1;33m)\u001b[0m\u001b[1;33m)\u001b[0m\u001b[1;33m\u001b[0m\u001b[1;33m\u001b[0m\u001b[0m\n",
      "\u001b[1;31mNameError\u001b[0m: name 'norm' is not defined"
     ]
    }
   ],
   "source": [
    "print('Media:',norm.mean())\n",
    "print('Máximo:',norm.max())\n",
    "print('Minimo:',norm.min())"
   ]
  },
  {
   "cell_type": "markdown",
   "metadata": {},
   "source": [
    "Si realizó el paso anterior de manera correcta debemos tener los datos con una media cercana o tendiente a cero.\n",
    "\n",
    "Respuesta:\n",
    "```\n",
    "Media: -2.4632148173016807e-18\n",
    "Máximo: 1.8726267617090666\n",
    "Minimo: -1.9511544494198068\n",
    "```"
   ]
  },
  {
   "cell_type": "markdown",
   "metadata": {},
   "source": [
    "### Separacion de los datos\n",
    "\n",
    "Despues que se normalizan los datos es costumbre dividir el dataset en \n",
    "- Training set\n",
    "- Validation set\n",
    "- Test set\n",
    "\n",
    "Normalmente se eligen los valores de división dependiendo de la cantidad de datos, pero usaremos en este caso los siguientes porcentajes\n",
    "- 60%\n",
    "- 20%\n",
    "- 20%\n",
    "\n",
    "Empezaremos a dividir los datos, asegurese de no tener coincidencia en los mismos datos seleccionados (no elegir la misma fila) para poder que los datos sean seleccionados aleatoriamente y distribuidos entre los nuevos sets."
   ]
  },
  {
   "cell_type": "markdown",
   "metadata": {},
   "source": [
    "Creareomos un arreglo de rango 1 conteniedo las permutaciones de filas de indices de *norm*.  Ud. puede con la función np.random.permutation(N) crear valores entre rangos de 0 a N-1."
   ]
  },
  {
   "cell_type": "code",
   "execution_count": null,
   "metadata": {},
   "outputs": [],
   "source": [
    "# ejemplo\n",
    "print(np.random.permutation(5))"
   ]
  },
  {
   "cell_type": "markdown",
   "metadata": {},
   "source": [
    "En la parte inferior crear un arreglo de rango 1 que contenga las permutaciones de los índices de las filas de *norm*.  Ud puede realizar esto en una línea de codigo extrayendo el número de filas de *norm*\n",
    "- puede utilizar la funcion .shape (recuerde que retorna filas, columnas)\n",
    "- luego puede pasar este dato a np.random.permutation()"
   ]
  },
  {
   "cell_type": "code",
   "execution_count": 13,
   "metadata": {},
   "outputs": [
    {
     "ename": "NameError",
     "evalue": "name 'np' is not defined",
     "output_type": "error",
     "traceback": [
      "\u001b[1;31m---------------------------------------------------------------------------\u001b[0m",
      "\u001b[1;31mNameError\u001b[0m                                 Traceback (most recent call last)",
      "\u001b[1;32m<ipython-input-13-054973ddcc6a>\u001b[0m in \u001b[0;36m<module>\u001b[1;34m\u001b[0m\n\u001b[1;32m----> 1\u001b[1;33m \u001b[0mindices_filas\u001b[0m \u001b[1;33m=\u001b[0m \u001b[0mnp\u001b[0m\u001b[1;33m.\u001b[0m\u001b[0mrandom\u001b[0m\u001b[1;33m.\u001b[0m\u001b[0mpermutation\u001b[0m\u001b[1;33m(\u001b[0m\u001b[0mnorm\u001b[0m\u001b[1;33m.\u001b[0m\u001b[0mshape\u001b[0m\u001b[1;33m[\u001b[0m\u001b[1;36m0\u001b[0m\u001b[1;33m]\u001b[0m\u001b[1;33m)\u001b[0m\u001b[1;33m\u001b[0m\u001b[1;33m\u001b[0m\u001b[0m\n\u001b[0m",
      "\u001b[1;31mNameError\u001b[0m: name 'np' is not defined"
     ]
    }
   ],
   "source": [
    "indices_filas = np.random.permutation(norm.shape[0])"
   ]
  },
  {
   "cell_type": "code",
   "execution_count": null,
   "metadata": {
    "scrolled": true
   },
   "outputs": [],
   "source": [
    "print(indices_filas.shape)"
   ]
  },
  {
   "cell_type": "markdown",
   "metadata": {},
   "source": [
    "Respuesta esperada:\n",
    "\n",
    "(500,)"
   ]
  },
  {
   "cell_type": "markdown",
   "metadata": {},
   "source": [
    "Ahora ud puede crear los tres datasets por medio del uso de indices de filas de nuevo arreglo *indices_filas*.  Recuerde que las divisiones son 60/20/20 para train/validation/test, esto se puede completar para cada caso en una línea de código.  Llenar los espacios debajo."
   ]
  },
  {
   "cell_type": "code",
   "execution_count": null,
   "metadata": {},
   "outputs": [],
   "source": [
    "# calcule el total del arreglo indices_filas\n",
    "n = indices_filas.shape[0]\n",
    "\n",
    "# calcule los valores de training set, no hardcoded\n",
    "train_start = n - n\n",
    "train_end   = int(n*0.60)\n",
    "\n",
    "# calcule los valores de validation set, no hardcoded\n",
    "valid_start = train_end\n",
    "valid_end   = n - int(n*0.20)\n",
    "\n",
    "# calcule los valores del test set, no hardcoded\n",
    "test_start = valid_end\n",
    "test_end   = n"
   ]
  },
  {
   "cell_type": "code",
   "execution_count": 14,
   "metadata": {
    "scrolled": false
   },
   "outputs": [
    {
     "ename": "NameError",
     "evalue": "name 'train_start' is not defined",
     "output_type": "error",
     "traceback": [
      "\u001b[1;31m---------------------------------------------------------------------------\u001b[0m",
      "\u001b[1;31mNameError\u001b[0m                                 Traceback (most recent call last)",
      "\u001b[1;32m<ipython-input-14-867e59648e93>\u001b[0m in \u001b[0;36m<module>\u001b[1;34m\u001b[0m\n\u001b[1;32m----> 1\u001b[1;33m \u001b[0mprint\u001b[0m\u001b[1;33m(\u001b[0m\u001b[0mtrain_start\u001b[0m\u001b[1;33m,\u001b[0m \u001b[0mtrain_end\u001b[0m\u001b[1;33m)\u001b[0m\u001b[1;33m\u001b[0m\u001b[1;33m\u001b[0m\u001b[0m\n\u001b[0m\u001b[0;32m      2\u001b[0m \u001b[0mprint\u001b[0m\u001b[1;33m(\u001b[0m\u001b[0mvalid_start\u001b[0m\u001b[1;33m,\u001b[0m \u001b[0mvalid_end\u001b[0m\u001b[1;33m)\u001b[0m\u001b[1;33m\u001b[0m\u001b[1;33m\u001b[0m\u001b[0m\n\u001b[0;32m      3\u001b[0m \u001b[0mprint\u001b[0m\u001b[1;33m(\u001b[0m\u001b[0mtest_start\u001b[0m\u001b[1;33m,\u001b[0m \u001b[0mtest_end\u001b[0m\u001b[1;33m)\u001b[0m\u001b[1;33m\u001b[0m\u001b[1;33m\u001b[0m\u001b[0m\n",
      "\u001b[1;31mNameError\u001b[0m: name 'train_start' is not defined"
     ]
    }
   ],
   "source": [
    "print(train_start, train_end)\n",
    "print(valid_start, valid_end)\n",
    "print(test_start, test_end)"
   ]
  },
  {
   "cell_type": "markdown",
   "metadata": {},
   "source": [
    "Respuestas esperadas:\n",
    "```\n",
    "0 300\n",
    "300 400\n",
    "400 500\n",
    "```"
   ]
  },
  {
   "cell_type": "code",
   "execution_count": null,
   "metadata": {},
   "outputs": [],
   "source": [
    "# de norm, tome la sección inicial y final que corresponde al training set\n",
    "train_set = norm[train_start:train_end]\n",
    "\n",
    "# de norm, tome la seccion inicial y final que corresponde al validation set\n",
    "valid_set = norm[valid_start:valid_end]\n",
    "\n",
    "# de norm, tome la seccion inicial y final que corresponde al test set\n",
    "test_set = norm[test_start:test_end]"
   ]
  },
  {
   "cell_type": "code",
   "execution_count": null,
   "metadata": {},
   "outputs": [],
   "source": [
    "# imprima el .shape de training set\n",
    "print(train_set.shape)\n",
    "\n",
    "# imprima el .shape del validation set\n",
    "print(valid_set.shape)\n",
    "\n",
    "# imprima el .shape del test set\n",
    "print(test_set.shape)"
   ]
  },
  {
   "cell_type": "markdown",
   "metadata": {},
   "source": [
    "Respuesta esperada:\n",
    "```\n",
    "(300, 300)\n",
    "(100, 300)\n",
    "(100, 300)\n",
    "```"
   ]
  }
 ],
 "metadata": {
  "kernelspec": {
   "display_name": "Python 3",
   "language": "python",
   "name": "python3"
  },
  "language_info": {
   "codemirror_mode": {
    "name": "ipython",
    "version": 3
   },
   "file_extension": ".py",
   "mimetype": "text/x-python",
   "name": "python",
   "nbconvert_exporter": "python",
   "pygments_lexer": "ipython3",
   "version": "3.8.3"
  }
 },
 "nbformat": 4,
 "nbformat_minor": 4
}
